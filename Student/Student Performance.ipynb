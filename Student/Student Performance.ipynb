{
 "cells": [
  {
   "cell_type": "code",
   "execution_count": 1,
   "id": "a7b16e66",
   "metadata": {},
   "outputs": [],
   "source": [
    "import pandas as pd"
   ]
  },
  {
   "cell_type": "code",
   "execution_count": 2,
   "id": "b262c3e8",
   "metadata": {},
   "outputs": [],
   "source": [
    "student = pd.read_csv(\"data.csv\")"
   ]
  },
  {
   "cell_type": "code",
   "execution_count": 3,
   "id": "4ea1e816",
   "metadata": {},
   "outputs": [
    {
     "data": {
      "text/html": [
       "<div>\n",
       "<style scoped>\n",
       "    .dataframe tbody tr th:only-of-type {\n",
       "        vertical-align: middle;\n",
       "    }\n",
       "\n",
       "    .dataframe tbody tr th {\n",
       "        vertical-align: top;\n",
       "    }\n",
       "\n",
       "    .dataframe thead th {\n",
       "        text-align: right;\n",
       "    }\n",
       "</style>\n",
       "<table border=\"1\" class=\"dataframe\">\n",
       "  <thead>\n",
       "    <tr style=\"text-align: right;\">\n",
       "      <th></th>\n",
       "      <th>age</th>\n",
       "      <th>Medu</th>\n",
       "      <th>Fedu</th>\n",
       "      <th>traveltime</th>\n",
       "      <th>studytime</th>\n",
       "      <th>failures</th>\n",
       "      <th>schoolsup</th>\n",
       "      <th>famsup</th>\n",
       "      <th>paid</th>\n",
       "      <th>activities</th>\n",
       "      <th>...</th>\n",
       "      <th>internet</th>\n",
       "      <th>romantic</th>\n",
       "      <th>famrel</th>\n",
       "      <th>freetime</th>\n",
       "      <th>goout</th>\n",
       "      <th>Dalc</th>\n",
       "      <th>Walc</th>\n",
       "      <th>health</th>\n",
       "      <th>absences</th>\n",
       "      <th>marks</th>\n",
       "    </tr>\n",
       "  </thead>\n",
       "  <tbody>\n",
       "    <tr>\n",
       "      <th>0</th>\n",
       "      <td>18</td>\n",
       "      <td>4</td>\n",
       "      <td>4</td>\n",
       "      <td>2</td>\n",
       "      <td>2</td>\n",
       "      <td>0</td>\n",
       "      <td>1</td>\n",
       "      <td>0</td>\n",
       "      <td>0</td>\n",
       "      <td>0</td>\n",
       "      <td>...</td>\n",
       "      <td>0</td>\n",
       "      <td>0</td>\n",
       "      <td>4</td>\n",
       "      <td>3</td>\n",
       "      <td>4</td>\n",
       "      <td>1</td>\n",
       "      <td>1</td>\n",
       "      <td>3</td>\n",
       "      <td>6</td>\n",
       "      <td>6</td>\n",
       "    </tr>\n",
       "    <tr>\n",
       "      <th>1</th>\n",
       "      <td>17</td>\n",
       "      <td>1</td>\n",
       "      <td>1</td>\n",
       "      <td>1</td>\n",
       "      <td>2</td>\n",
       "      <td>0</td>\n",
       "      <td>0</td>\n",
       "      <td>1</td>\n",
       "      <td>0</td>\n",
       "      <td>0</td>\n",
       "      <td>...</td>\n",
       "      <td>1</td>\n",
       "      <td>0</td>\n",
       "      <td>5</td>\n",
       "      <td>3</td>\n",
       "      <td>3</td>\n",
       "      <td>1</td>\n",
       "      <td>1</td>\n",
       "      <td>3</td>\n",
       "      <td>4</td>\n",
       "      <td>6</td>\n",
       "    </tr>\n",
       "    <tr>\n",
       "      <th>2</th>\n",
       "      <td>15</td>\n",
       "      <td>1</td>\n",
       "      <td>1</td>\n",
       "      <td>1</td>\n",
       "      <td>2</td>\n",
       "      <td>3</td>\n",
       "      <td>1</td>\n",
       "      <td>0</td>\n",
       "      <td>1</td>\n",
       "      <td>0</td>\n",
       "      <td>...</td>\n",
       "      <td>1</td>\n",
       "      <td>0</td>\n",
       "      <td>4</td>\n",
       "      <td>3</td>\n",
       "      <td>2</td>\n",
       "      <td>2</td>\n",
       "      <td>3</td>\n",
       "      <td>3</td>\n",
       "      <td>10</td>\n",
       "      <td>10</td>\n",
       "    </tr>\n",
       "    <tr>\n",
       "      <th>3</th>\n",
       "      <td>15</td>\n",
       "      <td>4</td>\n",
       "      <td>2</td>\n",
       "      <td>1</td>\n",
       "      <td>3</td>\n",
       "      <td>0</td>\n",
       "      <td>0</td>\n",
       "      <td>1</td>\n",
       "      <td>1</td>\n",
       "      <td>1</td>\n",
       "      <td>...</td>\n",
       "      <td>1</td>\n",
       "      <td>1</td>\n",
       "      <td>3</td>\n",
       "      <td>2</td>\n",
       "      <td>2</td>\n",
       "      <td>1</td>\n",
       "      <td>1</td>\n",
       "      <td>5</td>\n",
       "      <td>2</td>\n",
       "      <td>15</td>\n",
       "    </tr>\n",
       "    <tr>\n",
       "      <th>4</th>\n",
       "      <td>16</td>\n",
       "      <td>3</td>\n",
       "      <td>3</td>\n",
       "      <td>1</td>\n",
       "      <td>2</td>\n",
       "      <td>0</td>\n",
       "      <td>0</td>\n",
       "      <td>1</td>\n",
       "      <td>1</td>\n",
       "      <td>0</td>\n",
       "      <td>...</td>\n",
       "      <td>0</td>\n",
       "      <td>0</td>\n",
       "      <td>4</td>\n",
       "      <td>3</td>\n",
       "      <td>2</td>\n",
       "      <td>1</td>\n",
       "      <td>2</td>\n",
       "      <td>5</td>\n",
       "      <td>4</td>\n",
       "      <td>10</td>\n",
       "    </tr>\n",
       "  </tbody>\n",
       "</table>\n",
       "<p>5 rows × 22 columns</p>\n",
       "</div>"
      ],
      "text/plain": [
       "   age  Medu  Fedu  traveltime  studytime  failures  schoolsup  famsup  paid  \\\n",
       "0   18     4     4           2          2         0          1       0     0   \n",
       "1   17     1     1           1          2         0          0       1     0   \n",
       "2   15     1     1           1          2         3          1       0     1   \n",
       "3   15     4     2           1          3         0          0       1     1   \n",
       "4   16     3     3           1          2         0          0       1     1   \n",
       "\n",
       "   activities  ...  internet  romantic  famrel  freetime  goout  Dalc  Walc  \\\n",
       "0           0  ...         0         0       4         3      4     1     1   \n",
       "1           0  ...         1         0       5         3      3     1     1   \n",
       "2           0  ...         1         0       4         3      2     2     3   \n",
       "3           1  ...         1         1       3         2      2     1     1   \n",
       "4           0  ...         0         0       4         3      2     1     2   \n",
       "\n",
       "   health  absences  marks  \n",
       "0       3         6      6  \n",
       "1       3         4      6  \n",
       "2       3        10     10  \n",
       "3       5         2     15  \n",
       "4       5         4     10  \n",
       "\n",
       "[5 rows x 22 columns]"
      ]
     },
     "execution_count": 3,
     "metadata": {},
     "output_type": "execute_result"
    }
   ],
   "source": [
    "student.head() # Gives first five rows of the data."
   ]
  },
  {
   "cell_type": "code",
   "execution_count": 4,
   "id": "bb49583f",
   "metadata": {},
   "outputs": [
    {
     "name": "stdout",
     "output_type": "stream",
     "text": [
      "<class 'pandas.core.frame.DataFrame'>\n",
      "RangeIndex: 395 entries, 0 to 394\n",
      "Data columns (total 22 columns):\n",
      " #   Column      Non-Null Count  Dtype\n",
      "---  ------      --------------  -----\n",
      " 0   age         395 non-null    int64\n",
      " 1   Medu        395 non-null    int64\n",
      " 2   Fedu        395 non-null    int64\n",
      " 3   traveltime  395 non-null    int64\n",
      " 4   studytime   395 non-null    int64\n",
      " 5   failures    395 non-null    int64\n",
      " 6   schoolsup   395 non-null    int64\n",
      " 7   famsup      395 non-null    int64\n",
      " 8   paid        395 non-null    int64\n",
      " 9   activities  395 non-null    int64\n",
      " 10  nursery     395 non-null    int64\n",
      " 11  higher      395 non-null    int64\n",
      " 12  internet    395 non-null    int64\n",
      " 13  romantic    395 non-null    int64\n",
      " 14  famrel      395 non-null    int64\n",
      " 15  freetime    395 non-null    int64\n",
      " 16  goout       395 non-null    int64\n",
      " 17  Dalc        395 non-null    int64\n",
      " 18  Walc        395 non-null    int64\n",
      " 19  health      395 non-null    int64\n",
      " 20  absences    395 non-null    int64\n",
      " 21  marks       395 non-null    int64\n",
      "dtypes: int64(22)\n",
      "memory usage: 68.0 KB\n"
     ]
    }
   ],
   "source": [
    "student.info()"
   ]
  },
  {
   "cell_type": "code",
   "execution_count": 5,
   "id": "4030edd0",
   "metadata": {},
   "outputs": [
    {
     "data": {
      "text/html": [
       "<div>\n",
       "<style scoped>\n",
       "    .dataframe tbody tr th:only-of-type {\n",
       "        vertical-align: middle;\n",
       "    }\n",
       "\n",
       "    .dataframe tbody tr th {\n",
       "        vertical-align: top;\n",
       "    }\n",
       "\n",
       "    .dataframe thead th {\n",
       "        text-align: right;\n",
       "    }\n",
       "</style>\n",
       "<table border=\"1\" class=\"dataframe\">\n",
       "  <thead>\n",
       "    <tr style=\"text-align: right;\">\n",
       "      <th></th>\n",
       "      <th>age</th>\n",
       "      <th>Medu</th>\n",
       "      <th>Fedu</th>\n",
       "      <th>traveltime</th>\n",
       "      <th>studytime</th>\n",
       "      <th>failures</th>\n",
       "      <th>schoolsup</th>\n",
       "      <th>famsup</th>\n",
       "      <th>paid</th>\n",
       "      <th>activities</th>\n",
       "      <th>...</th>\n",
       "      <th>internet</th>\n",
       "      <th>romantic</th>\n",
       "      <th>famrel</th>\n",
       "      <th>freetime</th>\n",
       "      <th>goout</th>\n",
       "      <th>Dalc</th>\n",
       "      <th>Walc</th>\n",
       "      <th>health</th>\n",
       "      <th>absences</th>\n",
       "      <th>marks</th>\n",
       "    </tr>\n",
       "  </thead>\n",
       "  <tbody>\n",
       "    <tr>\n",
       "      <th>count</th>\n",
       "      <td>395.000000</td>\n",
       "      <td>395.000000</td>\n",
       "      <td>395.000000</td>\n",
       "      <td>395.000000</td>\n",
       "      <td>395.000000</td>\n",
       "      <td>395.000000</td>\n",
       "      <td>395.000000</td>\n",
       "      <td>395.000000</td>\n",
       "      <td>395.000000</td>\n",
       "      <td>395.000000</td>\n",
       "      <td>...</td>\n",
       "      <td>395.000000</td>\n",
       "      <td>395.000000</td>\n",
       "      <td>395.000000</td>\n",
       "      <td>395.000000</td>\n",
       "      <td>395.000000</td>\n",
       "      <td>395.000000</td>\n",
       "      <td>395.000000</td>\n",
       "      <td>395.000000</td>\n",
       "      <td>395.000000</td>\n",
       "      <td>395.000000</td>\n",
       "    </tr>\n",
       "    <tr>\n",
       "      <th>mean</th>\n",
       "      <td>16.696203</td>\n",
       "      <td>2.749367</td>\n",
       "      <td>2.521519</td>\n",
       "      <td>1.448101</td>\n",
       "      <td>2.035443</td>\n",
       "      <td>0.334177</td>\n",
       "      <td>0.129114</td>\n",
       "      <td>0.612658</td>\n",
       "      <td>0.458228</td>\n",
       "      <td>0.508861</td>\n",
       "      <td>...</td>\n",
       "      <td>0.832911</td>\n",
       "      <td>0.334177</td>\n",
       "      <td>3.944304</td>\n",
       "      <td>3.235443</td>\n",
       "      <td>3.108861</td>\n",
       "      <td>1.481013</td>\n",
       "      <td>2.291139</td>\n",
       "      <td>3.554430</td>\n",
       "      <td>5.708861</td>\n",
       "      <td>10.415190</td>\n",
       "    </tr>\n",
       "    <tr>\n",
       "      <th>std</th>\n",
       "      <td>1.276043</td>\n",
       "      <td>1.094735</td>\n",
       "      <td>1.088201</td>\n",
       "      <td>0.697505</td>\n",
       "      <td>0.839240</td>\n",
       "      <td>0.743651</td>\n",
       "      <td>0.335751</td>\n",
       "      <td>0.487761</td>\n",
       "      <td>0.498884</td>\n",
       "      <td>0.500555</td>\n",
       "      <td>...</td>\n",
       "      <td>0.373528</td>\n",
       "      <td>0.472300</td>\n",
       "      <td>0.896659</td>\n",
       "      <td>0.998862</td>\n",
       "      <td>1.113278</td>\n",
       "      <td>0.890741</td>\n",
       "      <td>1.287897</td>\n",
       "      <td>1.390303</td>\n",
       "      <td>8.003096</td>\n",
       "      <td>4.581443</td>\n",
       "    </tr>\n",
       "    <tr>\n",
       "      <th>min</th>\n",
       "      <td>15.000000</td>\n",
       "      <td>0.000000</td>\n",
       "      <td>0.000000</td>\n",
       "      <td>1.000000</td>\n",
       "      <td>1.000000</td>\n",
       "      <td>0.000000</td>\n",
       "      <td>0.000000</td>\n",
       "      <td>0.000000</td>\n",
       "      <td>0.000000</td>\n",
       "      <td>0.000000</td>\n",
       "      <td>...</td>\n",
       "      <td>0.000000</td>\n",
       "      <td>0.000000</td>\n",
       "      <td>1.000000</td>\n",
       "      <td>1.000000</td>\n",
       "      <td>1.000000</td>\n",
       "      <td>1.000000</td>\n",
       "      <td>1.000000</td>\n",
       "      <td>1.000000</td>\n",
       "      <td>0.000000</td>\n",
       "      <td>0.000000</td>\n",
       "    </tr>\n",
       "    <tr>\n",
       "      <th>25%</th>\n",
       "      <td>16.000000</td>\n",
       "      <td>2.000000</td>\n",
       "      <td>2.000000</td>\n",
       "      <td>1.000000</td>\n",
       "      <td>1.000000</td>\n",
       "      <td>0.000000</td>\n",
       "      <td>0.000000</td>\n",
       "      <td>0.000000</td>\n",
       "      <td>0.000000</td>\n",
       "      <td>0.000000</td>\n",
       "      <td>...</td>\n",
       "      <td>1.000000</td>\n",
       "      <td>0.000000</td>\n",
       "      <td>4.000000</td>\n",
       "      <td>3.000000</td>\n",
       "      <td>2.000000</td>\n",
       "      <td>1.000000</td>\n",
       "      <td>1.000000</td>\n",
       "      <td>3.000000</td>\n",
       "      <td>0.000000</td>\n",
       "      <td>8.000000</td>\n",
       "    </tr>\n",
       "    <tr>\n",
       "      <th>50%</th>\n",
       "      <td>17.000000</td>\n",
       "      <td>3.000000</td>\n",
       "      <td>2.000000</td>\n",
       "      <td>1.000000</td>\n",
       "      <td>2.000000</td>\n",
       "      <td>0.000000</td>\n",
       "      <td>0.000000</td>\n",
       "      <td>1.000000</td>\n",
       "      <td>0.000000</td>\n",
       "      <td>1.000000</td>\n",
       "      <td>...</td>\n",
       "      <td>1.000000</td>\n",
       "      <td>0.000000</td>\n",
       "      <td>4.000000</td>\n",
       "      <td>3.000000</td>\n",
       "      <td>3.000000</td>\n",
       "      <td>1.000000</td>\n",
       "      <td>2.000000</td>\n",
       "      <td>4.000000</td>\n",
       "      <td>4.000000</td>\n",
       "      <td>11.000000</td>\n",
       "    </tr>\n",
       "    <tr>\n",
       "      <th>75%</th>\n",
       "      <td>18.000000</td>\n",
       "      <td>4.000000</td>\n",
       "      <td>3.000000</td>\n",
       "      <td>2.000000</td>\n",
       "      <td>2.000000</td>\n",
       "      <td>0.000000</td>\n",
       "      <td>0.000000</td>\n",
       "      <td>1.000000</td>\n",
       "      <td>1.000000</td>\n",
       "      <td>1.000000</td>\n",
       "      <td>...</td>\n",
       "      <td>1.000000</td>\n",
       "      <td>1.000000</td>\n",
       "      <td>5.000000</td>\n",
       "      <td>4.000000</td>\n",
       "      <td>4.000000</td>\n",
       "      <td>2.000000</td>\n",
       "      <td>3.000000</td>\n",
       "      <td>5.000000</td>\n",
       "      <td>8.000000</td>\n",
       "      <td>14.000000</td>\n",
       "    </tr>\n",
       "    <tr>\n",
       "      <th>max</th>\n",
       "      <td>22.000000</td>\n",
       "      <td>4.000000</td>\n",
       "      <td>4.000000</td>\n",
       "      <td>4.000000</td>\n",
       "      <td>4.000000</td>\n",
       "      <td>3.000000</td>\n",
       "      <td>1.000000</td>\n",
       "      <td>1.000000</td>\n",
       "      <td>1.000000</td>\n",
       "      <td>1.000000</td>\n",
       "      <td>...</td>\n",
       "      <td>1.000000</td>\n",
       "      <td>1.000000</td>\n",
       "      <td>5.000000</td>\n",
       "      <td>5.000000</td>\n",
       "      <td>5.000000</td>\n",
       "      <td>5.000000</td>\n",
       "      <td>5.000000</td>\n",
       "      <td>5.000000</td>\n",
       "      <td>75.000000</td>\n",
       "      <td>20.000000</td>\n",
       "    </tr>\n",
       "  </tbody>\n",
       "</table>\n",
       "<p>8 rows × 22 columns</p>\n",
       "</div>"
      ],
      "text/plain": [
       "              age        Medu        Fedu  traveltime   studytime    failures  \\\n",
       "count  395.000000  395.000000  395.000000  395.000000  395.000000  395.000000   \n",
       "mean    16.696203    2.749367    2.521519    1.448101    2.035443    0.334177   \n",
       "std      1.276043    1.094735    1.088201    0.697505    0.839240    0.743651   \n",
       "min     15.000000    0.000000    0.000000    1.000000    1.000000    0.000000   \n",
       "25%     16.000000    2.000000    2.000000    1.000000    1.000000    0.000000   \n",
       "50%     17.000000    3.000000    2.000000    1.000000    2.000000    0.000000   \n",
       "75%     18.000000    4.000000    3.000000    2.000000    2.000000    0.000000   \n",
       "max     22.000000    4.000000    4.000000    4.000000    4.000000    3.000000   \n",
       "\n",
       "        schoolsup      famsup        paid  activities  ...    internet  \\\n",
       "count  395.000000  395.000000  395.000000  395.000000  ...  395.000000   \n",
       "mean     0.129114    0.612658    0.458228    0.508861  ...    0.832911   \n",
       "std      0.335751    0.487761    0.498884    0.500555  ...    0.373528   \n",
       "min      0.000000    0.000000    0.000000    0.000000  ...    0.000000   \n",
       "25%      0.000000    0.000000    0.000000    0.000000  ...    1.000000   \n",
       "50%      0.000000    1.000000    0.000000    1.000000  ...    1.000000   \n",
       "75%      0.000000    1.000000    1.000000    1.000000  ...    1.000000   \n",
       "max      1.000000    1.000000    1.000000    1.000000  ...    1.000000   \n",
       "\n",
       "         romantic      famrel    freetime       goout        Dalc        Walc  \\\n",
       "count  395.000000  395.000000  395.000000  395.000000  395.000000  395.000000   \n",
       "mean     0.334177    3.944304    3.235443    3.108861    1.481013    2.291139   \n",
       "std      0.472300    0.896659    0.998862    1.113278    0.890741    1.287897   \n",
       "min      0.000000    1.000000    1.000000    1.000000    1.000000    1.000000   \n",
       "25%      0.000000    4.000000    3.000000    2.000000    1.000000    1.000000   \n",
       "50%      0.000000    4.000000    3.000000    3.000000    1.000000    2.000000   \n",
       "75%      1.000000    5.000000    4.000000    4.000000    2.000000    3.000000   \n",
       "max      1.000000    5.000000    5.000000    5.000000    5.000000    5.000000   \n",
       "\n",
       "           health    absences       marks  \n",
       "count  395.000000  395.000000  395.000000  \n",
       "mean     3.554430    5.708861   10.415190  \n",
       "std      1.390303    8.003096    4.581443  \n",
       "min      1.000000    0.000000    0.000000  \n",
       "25%      3.000000    0.000000    8.000000  \n",
       "50%      4.000000    4.000000   11.000000  \n",
       "75%      5.000000    8.000000   14.000000  \n",
       "max      5.000000   75.000000   20.000000  \n",
       "\n",
       "[8 rows x 22 columns]"
      ]
     },
     "execution_count": 5,
     "metadata": {},
     "output_type": "execute_result"
    }
   ],
   "source": [
    "student.describe()"
   ]
  },
  {
   "cell_type": "code",
   "execution_count": 6,
   "id": "c01c1987",
   "metadata": {},
   "outputs": [],
   "source": [
    "%matplotlib inline"
   ]
  },
  {
   "cell_type": "code",
   "execution_count": 7,
   "id": "92966f03",
   "metadata": {},
   "outputs": [
    {
     "data": {
      "text/plain": [
       "array([[<AxesSubplot:title={'center':'age'}>,\n",
       "        <AxesSubplot:title={'center':'Medu'}>,\n",
       "        <AxesSubplot:title={'center':'Fedu'}>,\n",
       "        <AxesSubplot:title={'center':'traveltime'}>,\n",
       "        <AxesSubplot:title={'center':'studytime'}>],\n",
       "       [<AxesSubplot:title={'center':'failures'}>,\n",
       "        <AxesSubplot:title={'center':'schoolsup'}>,\n",
       "        <AxesSubplot:title={'center':'famsup'}>,\n",
       "        <AxesSubplot:title={'center':'paid'}>,\n",
       "        <AxesSubplot:title={'center':'activities'}>],\n",
       "       [<AxesSubplot:title={'center':'nursery'}>,\n",
       "        <AxesSubplot:title={'center':'higher'}>,\n",
       "        <AxesSubplot:title={'center':'internet'}>,\n",
       "        <AxesSubplot:title={'center':'romantic'}>,\n",
       "        <AxesSubplot:title={'center':'famrel'}>],\n",
       "       [<AxesSubplot:title={'center':'freetime'}>,\n",
       "        <AxesSubplot:title={'center':'goout'}>,\n",
       "        <AxesSubplot:title={'center':'Dalc'}>,\n",
       "        <AxesSubplot:title={'center':'Walc'}>,\n",
       "        <AxesSubplot:title={'center':'health'}>],\n",
       "       [<AxesSubplot:title={'center':'absences'}>,\n",
       "        <AxesSubplot:title={'center':'marks'}>, <AxesSubplot:>,\n",
       "        <AxesSubplot:>, <AxesSubplot:>]], dtype=object)"
      ]
     },
     "execution_count": 7,
     "metadata": {},
     "output_type": "execute_result"
    },
    {
     "data": {
      "image/png": "[encoded data removed]",
      "text/plain": [
       "<Figure size 1440x1080 with 25 Axes>"
      ]
     },
     "metadata": {
      "needs_background": "light"
     },
     "output_type": "display_data"
    }
   ],
   "source": [
    "# %matplotlib was written to see the graphs here in the notebook\n",
    "# For plotting histogram\n",
    "import matplotlib.pyplot as plt\n",
    "student.hist(bins=50, figsize=(20,15))"
   ]
  },
  {
   "cell_type": "markdown",
   "id": "470db788",
   "metadata": {},
   "source": [
    "## Train Test Splitting"
   ]
  },
  {
   "cell_type": "code",
   "execution_count": 8,
   "id": "0409d698",
   "metadata": {},
   "outputs": [],
   "source": [
    "# For learning purpose\n",
    "\n",
    "import numpy as np\n",
    "def split_train_test(data, test_ratio):\n",
    "    np.random.seed(42)\n",
    "    '''\n",
    "    The problem with the below line of code is that it generates shuffled randomly.\n",
    "    So at one point of time, it will know all the data which is not what we want .\n",
    "    So to fix this, \"np.random.seed(42)\" was written, which fixes the values once the method is executed.\n",
    "    '''\n",
    "    shuffled = np.random.permutation(len(data))  # permutation randomly arranges the data's indices\n",
    "    test_set_size = int(len(data) * test_ratio) # ratio of data to be trained and tested\n",
    "    test_indices = shuffled[:test_set_size] # 0 to test_set_size of the data indices are stored in test_indices\n",
    "    train_indices = shuffled[test_set_size:] # test_set_size to complete end of the data indices are stored in train_indices\n",
    "    '''\n",
    "    iloc()  function enables us to select a particular cell of the dataset, that is,it helps us select a value\n",
    "    that belongs to a particular row or column from a set of values of data frame or data set.\n",
    "    '''\n",
    "    return data.iloc[train_indices], data.iloc[test_indices]"
   ]
  },
  {
   "cell_type": "code",
   "execution_count": 9,
   "id": "f03ed6a2",
   "metadata": {},
   "outputs": [],
   "source": [
    "train_set, test_set = split_train_test(student, 0.2)\n",
    "# train_set and test_set are given by the split_train_set dividing it in the ratio 0.2"
   ]
  },
  {
   "cell_type": "code",
   "execution_count": 10,
   "id": "c6a0d28f",
   "metadata": {},
   "outputs": [
    {
     "name": "stdout",
     "output_type": "stream",
     "text": [
      "Rows in train set : 316\n",
      "Rows in test set: 79\n"
     ]
    }
   ],
   "source": [
    "print(f\"Rows in train set : {len(train_set)}\\nRows in test set: {len(test_set)}\")"
   ]
  },
  {
   "cell_type": "code",
   "execution_count": 11,
   "id": "89bb7f4c",
   "metadata": {},
   "outputs": [],
   "source": [
    "# The above split_train_test is available under sklearn.model_selection module with name train_test_split\n",
    "from sklearn.model_selection import train_test_split\n",
    "'''\n",
    "var student is the data.\n",
    "var test_size is the ratio.\n",
    "random_state is the np.random_seed(random_state) which fixes the data.\n",
    "'''\n",
    "train_set, test_set = train_test_split(student, test_size=0.2, random_state=42)"
   ]
  },
  {
   "cell_type": "code",
   "execution_count": 12,
   "id": "1ad31e86",
   "metadata": {},
   "outputs": [],
   "source": [
    "\n",
    "# But here the problem is that we cannot be sure how the data has been divided.\n",
    "# For example,\n",
    "# take the data under nursery row, what if data was fully utilised in the test_set ,\n",
    "# then the model will predict wrong output if the it was very important.\n",
    "# So we would want to divide it equally.\n",
    "# To do this task we use, stratified sampling.\n",
    "\n",
    "# To explain this :\n",
    "# Consider that aleins visit the Earth and they want to know how humans look like.\n",
    "# Now imagine that they saw only Indians or Americans. \n",
    "# Whats next ? \n",
    "# Then it's possible that they learn the wrong pattern. Such as they think that the humans have white hairs only which is not \n",
    "# true.\n",
    "# To solve this you would like to take some population from every part of the planet and teach them with that data.\n",
    "\n",
    "# Similarly for machine learning....\n",
    "\n",
    "# So you will have to teach it with stratified sampling.\n",
    "# Thankfully  you have a method in scikitlearn.\n"
   ]
  },
  {
   "cell_type": "code",
   "execution_count": 13,
   "id": "cc6d24ba",
   "metadata": {},
   "outputs": [],
   "source": [
    "from sklearn.model_selection import StratifiedShuffleSplit\n",
    "split= StratifiedShuffleSplit(n_splits=1, test_size=0.2, random_state=42)\n",
    "for train_index, test_index in split.split(student, student['nursery']):\n",
    "    strat_train_set = student.loc[train_index]\n",
    "    strat_test_set = student.loc[test_index]"
   ]
  },
  {
   "cell_type": "code",
   "execution_count": 14,
   "id": "c50a4d44",
   "metadata": {},
   "outputs": [
    {
     "data": {
      "text/plain": [
       "1    251\n",
       "0     65\n",
       "Name: nursery, dtype: int64"
      ]
     },
     "execution_count": 14,
     "metadata": {},
     "output_type": "execute_result"
    }
   ],
   "source": [
    "strat_train_set[\"nursery\"].value_counts()"
   ]
  },
  {
   "cell_type": "code",
   "execution_count": 15,
   "id": "0e771510",
   "metadata": {},
   "outputs": [
    {
     "data": {
      "text/plain": [
       "1    63\n",
       "0    16\n",
       "Name: nursery, dtype: int64"
      ]
     },
     "execution_count": 15,
     "metadata": {},
     "output_type": "execute_result"
    }
   ],
   "source": [
    "strat_test_set['nursery'].value_counts()"
   ]
  },
  {
   "cell_type": "code",
   "execution_count": 16,
   "id": "66cfbb67",
   "metadata": {},
   "outputs": [
    {
     "data": {
      "text/plain": [
       "1    0.250996\n",
       "0    0.246154\n",
       "Name: nursery, dtype: float64"
      ]
     },
     "execution_count": 16,
     "metadata": {},
     "output_type": "execute_result"
    }
   ],
   "source": [
    "strat_test_set['nursery'].value_counts()/strat_train_set[\"nursery\"].value_counts()"
   ]
  },
  {
   "cell_type": "code",
   "execution_count": 17,
   "id": "39186d74",
   "metadata": {},
   "outputs": [],
   "source": [
    "# if you are solving a real problem then you don't need to look for correlations.\n",
    "student = strat_train_set.copy() # Now housing is the train set."
   ]
  },
  {
   "cell_type": "markdown",
   "id": "6edcac8b",
   "metadata": {},
   "source": [
    "## Looking for Correlations"
   ]
  },
  {
   "cell_type": "code",
   "execution_count": 18,
   "id": "40a78f0a",
   "metadata": {},
   "outputs": [
    {
     "data": {
      "text/plain": [
       "marks         1.000000\n",
       "Medu          0.193717\n",
       "higher        0.172162\n",
       "paid          0.143103\n",
       "Fedu          0.117204\n",
       "internet      0.105636\n",
       "activities    0.073422\n",
       "studytime     0.071873\n",
       "nursery       0.050213\n",
       "absences      0.036177\n",
       "famrel        0.026846\n",
       "freetime      0.001439\n",
       "Walc         -0.032615\n",
       "traveltime   -0.050963\n",
       "Dalc         -0.058581\n",
       "famsup       -0.062762\n",
       "health       -0.085337\n",
       "romantic     -0.086766\n",
       "schoolsup    -0.110098\n",
       "goout        -0.121790\n",
       "age          -0.145149\n",
       "failures     -0.355331\n",
       "Name: marks, dtype: float64"
      ]
     },
     "execution_count": 18,
     "metadata": {},
     "output_type": "execute_result"
    }
   ],
   "source": [
    "# Taking out insights\n",
    "corr_matrix = student.corr()\n",
    "\n",
    "\n",
    "# Tells us that if we increase a given value, then how much MEDV will be increased\n",
    "# Strong positive coorelation means that if you increase a certain value then the given value is increased\n",
    "# Strong negative coorelation means that if you increase a certain value then the given value is decreased\n",
    "\n",
    "corr_matrix['marks'].sort_values(ascending=False)"
   ]
  },
  {
   "cell_type": "code",
   "execution_count": 19,
   "id": "d4859158",
   "metadata": {},
   "outputs": [
    {
     "data": {
      "text/plain": [
       "array([[<AxesSubplot:xlabel='marks', ylabel='marks'>,\n",
       "        <AxesSubplot:xlabel='Medu', ylabel='marks'>,\n",
       "        <AxesSubplot:xlabel='Fedu', ylabel='marks'>,\n",
       "        <AxesSubplot:xlabel='failures', ylabel='marks'>],\n",
       "       [<AxesSubplot:xlabel='marks', ylabel='Medu'>,\n",
       "        <AxesSubplot:xlabel='Medu', ylabel='Medu'>,\n",
       "        <AxesSubplot:xlabel='Fedu', ylabel='Medu'>,\n",
       "        <AxesSubplot:xlabel='failures', ylabel='Medu'>],\n",
       "       [<AxesSubplot:xlabel='marks', ylabel='Fedu'>,\n",
       "        <AxesSubplot:xlabel='Medu', ylabel='Fedu'>,\n",
       "        <AxesSubplot:xlabel='Fedu', ylabel='Fedu'>,\n",
       "        <AxesSubplot:xlabel='failures', ylabel='Fedu'>],\n",
       "       [<AxesSubplot:xlabel='marks', ylabel='failures'>,\n",
       "        <AxesSubplot:xlabel='Medu', ylabel='failures'>,\n",
       "        <AxesSubplot:xlabel='Fedu', ylabel='failures'>,\n",
       "        <AxesSubplot:xlabel='failures', ylabel='failures'>]], dtype=object)"
      ]
     },
     "execution_count": 19,
     "metadata": {},
     "output_type": "execute_result"
    },
    {
     "data": {
      "image/png": "[encoded data removed]",
      "text/plain": [
       "<Figure size 864x576 with 16 Axes>"
      ]
     },
     "metadata": {
      "needs_background": "light"
     },
     "output_type": "display_data"
    }
   ],
   "source": [
    "# Taking out insights by plotting\n",
    "from pandas.plotting import scatter_matrix\n",
    "attributes = [\"marks\", \"Medu\", \"Fedu\", \"failures\"]\n",
    "scatter_matrix(student[attributes], figsize= (12, 8))"
   ]
  },
  {
   "cell_type": "code",
   "execution_count": 20,
   "id": "d6af33ad",
   "metadata": {},
   "outputs": [],
   "source": [
    "student = strat_train_set.drop(\"marks\", axis=1) # Remove the MEDV for training.\n",
    "student_labels = strat_train_set[\"marks\"].copy() # get train_sets housing cost"
   ]
  },
  {
   "cell_type": "markdown",
   "id": "16f96346",
   "metadata": {},
   "source": [
    "## Creating a Pipeline"
   ]
  },
  {
   "cell_type": "code",
   "execution_count": 21,
   "id": "4652f5b3",
   "metadata": {},
   "outputs": [],
   "source": [
    "# Note a machine learning algorithm works perfectly when data is at the same scale \n",
    "from sklearn.pipeline import Pipeline\n",
    "from sklearn.preprocessing import StandardScaler\n",
    "from sklearn.impute import SimpleImputer\n",
    "my_pipeline = Pipeline([\n",
    "    ('imputer', SimpleImputer(strategy=\"median\")),\n",
    "    # .....add as many as you want in your pipline.\n",
    "    ('std_scaler', StandardScaler()),\n",
    "])\n"
   ]
  },
  {
   "cell_type": "code",
   "execution_count": 22,
   "id": "d9c588a9",
   "metadata": {},
   "outputs": [],
   "source": [
    "student_num_tr = my_pipeline.fit_transform(student)"
   ]
  },
  {
   "cell_type": "code",
   "execution_count": 23,
   "id": "d4669ace",
   "metadata": {},
   "outputs": [
    {
     "data": {
      "text/plain": [
       "(316, 21)"
      ]
     },
     "execution_count": 23,
     "metadata": {},
     "output_type": "execute_result"
    }
   ],
   "source": [
    "student_num_tr.shape"
   ]
  },
  {
   "cell_type": "code",
   "execution_count": 24,
   "id": "a98d5ea9",
   "metadata": {},
   "outputs": [
    {
     "data": {
      "text/plain": [
       "RandomForestRegressor()"
      ]
     },
     "execution_count": 24,
     "metadata": {},
     "output_type": "execute_result"
    }
   ],
   "source": [
    "from sklearn.linear_model import LinearRegression\n",
    "from sklearn.tree import DecisionTreeRegressor\n",
    "from sklearn.ensemble import RandomForestRegressor\n",
    "# model = LinearRegression() # Changing the model - rmse : 4. ...\n",
    "# model = DecisionTreeRegressor() # Changing the model But is overfitted since rmse = 0.0\n",
    "# But we want the model to learn the trend not the noise\n",
    "model = RandomForestRegressor()\n",
    "model.fit(student_num_tr, student_labels)"
   ]
  },
  {
   "cell_type": "code",
   "execution_count": 25,
   "id": "71ef76b6",
   "metadata": {},
   "outputs": [],
   "source": [
    "some_data = student.iloc[:5]"
   ]
  },
  {
   "cell_type": "code",
   "execution_count": 26,
   "id": "13befd04",
   "metadata": {},
   "outputs": [],
   "source": [
    "some_labels = student_labels.iloc[0:5]"
   ]
  },
  {
   "cell_type": "code",
   "execution_count": 27,
   "id": "04ef766c",
   "metadata": {},
   "outputs": [],
   "source": [
    "prepared_data = my_pipeline.transform(some_data)"
   ]
  },
  {
   "cell_type": "code",
   "execution_count": 28,
   "id": "c27fe7c1",
   "metadata": {},
   "outputs": [
    {
     "data": {
      "text/plain": [
       "array([11.58, 14.55,  7.83,  7.16, 11.02])"
      ]
     },
     "execution_count": 28,
     "metadata": {},
     "output_type": "execute_result"
    }
   ],
   "source": [
    "model.predict(prepared_data)"
   ]
  },
  {
   "cell_type": "code",
   "execution_count": 29,
   "id": "f1b5d807",
   "metadata": {},
   "outputs": [
    {
     "data": {
      "text/plain": [
       "[14, 15, 6, 5, 13]"
      ]
     },
     "execution_count": 29,
     "metadata": {},
     "output_type": "execute_result"
    }
   ],
   "source": [
    "list(some_labels)"
   ]
  },
  {
   "cell_type": "markdown",
   "id": "c6197875",
   "metadata": {},
   "source": [
    "## Evaluation"
   ]
  },
  {
   "cell_type": "code",
   "execution_count": 30,
   "id": "68f3ade1",
   "metadata": {},
   "outputs": [],
   "source": [
    "from sklearn.metrics import mean_squared_error\n",
    "student_predictions = model.predict(student_num_tr)\n",
    "mse = mean_squared_error(student_labels, student_predictions) # mse = Mean Squared Error\n",
    "rmse = np.sqrt(mse)"
   ]
  },
  {
   "cell_type": "code",
   "execution_count": 31,
   "id": "daaf7ce0",
   "metadata": {},
   "outputs": [
    {
     "data": {
      "text/plain": [
       "1.4514506056905603"
      ]
     },
     "execution_count": 31,
     "metadata": {},
     "output_type": "execute_result"
    }
   ],
   "source": [
    "rmse"
   ]
  },
  {
   "cell_type": "markdown",
   "id": "b5e566b0",
   "metadata": {},
   "source": [
    "## Using Better Evaluation Technique"
   ]
  },
  {
   "cell_type": "code",
   "execution_count": 32,
   "id": "b26f5313",
   "metadata": {},
   "outputs": [],
   "source": [
    "from sklearn.model_selection import cross_val_score\n",
    "scores = cross_val_score(model, student_num_tr, student_labels, scoring=\"neg_mean_squared_error\", cv=10)\n",
    "rmse_scores = np.sqrt(-scores)"
   ]
  },
  {
   "cell_type": "code",
   "execution_count": 33,
   "id": "0dcb86e0",
   "metadata": {},
   "outputs": [
    {
     "data": {
      "text/plain": [
       "array([3.9865814 , 3.69474458, 4.27659985, 3.53624669, 3.26745744,\n",
       "       3.9589653 , 3.49174557, 4.11148039, 3.77062158, 5.0748043 ])"
      ]
     },
     "execution_count": 33,
     "metadata": {},
     "output_type": "execute_result"
    }
   ],
   "source": [
    "rmse_scores # Errors are less as compared to linear Regressor Out 43"
   ]
  },
  {
   "cell_type": "code",
   "execution_count": 34,
   "id": "bc074c87",
   "metadata": {},
   "outputs": [],
   "source": [
    "def print_scores(scores):\n",
    "    print(\"Scores: \", scores)\n",
    "    print(\"Mean Error: \", scores.mean())\n",
    "    print(\"Standard deviation: \", scores.std()) # std = standard deviation"
   ]
  },
  {
   "cell_type": "code",
   "execution_count": 35,
   "id": "7215323f",
   "metadata": {},
   "outputs": [
    {
     "name": "stdout",
     "output_type": "stream",
     "text": [
      "Scores:  [3.9865814  3.69474458 4.27659985 3.53624669 3.26745744 3.9589653\n",
      " 3.49174557 4.11148039 3.77062158 5.0748043 ]\n",
      "Mean Error:  3.9169247085646526\n",
      "Standard deviation:  0.48298987001022037\n"
     ]
    }
   ],
   "source": [
    "print_scores(rmse_scores)"
   ]
  },
  {
   "cell_type": "markdown",
   "id": "cbd1c011",
   "metadata": {},
   "source": [
    "## Saving The Model"
   ]
  },
  {
   "cell_type": "code",
   "execution_count": 36,
   "id": "b5f5ed5d",
   "metadata": {},
   "outputs": [
    {
     "data": {
      "text/plain": [
       "['Student.joblib']"
      ]
     },
     "execution_count": 36,
     "metadata": {},
     "output_type": "execute_result"
    }
   ],
   "source": [
    "from joblib import dump, load\n",
    "dump(model, \"Student.joblib\")"
   ]
  },
  {
   "cell_type": "markdown",
   "id": "ebea9456",
   "metadata": {},
   "source": [
    "## Testing"
   ]
  },
  {
   "cell_type": "code",
   "execution_count": 37,
   "id": "b21d2fdf",
   "metadata": {},
   "outputs": [
    {
     "name": "stdout",
     "output_type": "stream",
     "text": [
      "Predictions:  [ 9.21 12.93 11.16  2.38 12.27 12.79 11.61 11.46 11.48 11.62 12.38 10.52\n",
      " 11.23 10.63  8.15  9.06 12.23  0.52 11.84  6.66 11.26  9.33 10.81 12.66\n",
      "  9.67  9.19  8.63  8.55 12.56  9.6  11.13 11.51  9.26 10.97  8.39 11.52\n",
      "  4.48 11.22  8.69 10.89 10.81 13.41 10.33  8.29 12.77 13.74 11.11 12.44\n",
      "  8.98 12.04 12.38 12.73 11.55  1.87  0.36  1.5  10.82 11.71  7.43 11.\n",
      " 11.36 11.57 10.99 12.72  9.71 10.85 12.97 10.43 13.56 10.43  9.55  8.5\n",
      " 11.71 13.35  1.85 11.74 12.93 12.25 13.3 ]\n",
      "Test data :  [11, 16, 15, 0, 10, 13, 13, 11, 10, 6, 16, 10, 14, 12, 0, 0, 18, 8, 11, 17, 10, 0, 10, 18, 10, 7, 13, 13, 10, 0, 9, 10, 10, 19, 15, 10, 7, 11, 10, 16, 10, 5, 9, 7, 12, 11, 10, 12, 13, 17, 9, 17, 14, 12, 0, 0, 11, 15, 0, 10, 11, 11, 12, 14, 16, 9, 15, 14, 13, 15, 8, 11, 14, 14, 0, 15, 10, 20, 8]\n"
     ]
    }
   ],
   "source": [
    "X_test = strat_test_set.drop(\"marks\", axis=1)\n",
    "Y_test = strat_test_set[\"marks\"].copy()\n",
    "X_test_prepared = my_pipeline.transform(X_test)\n",
    "final_predictions = model.predict(X_test_prepared)\n",
    "final_mse= mean_squared_error(Y_test, final_predictions)\n",
    "final_rmse = np.sqrt(final_mse)\n",
    "print(\"Predictions: \", final_predictions)\n",
    "print(\"Test data : \", list(Y_test))"
   ]
  },
  {
   "cell_type": "code",
   "execution_count": 38,
   "id": "337488e4",
   "metadata": {},
   "outputs": [
    {
     "data": {
      "text/plain": [
       "4.205097118040426"
      ]
     },
     "execution_count": 38,
     "metadata": {},
     "output_type": "execute_result"
    }
   ],
   "source": [
    "final_rmse"
   ]
  },
  {
   "cell_type": "code",
   "execution_count": 39,
   "id": "2badd7b9",
   "metadata": {},
   "outputs": [
    {
     "data": {
      "text/plain": [
       "array([-0.5428763 , -0.71683018, -0.53548911, -0.62690199, -0.04859584,\n",
       "       -0.4465959 ,  2.42271856,  0.77721356,  1.10695624, -1.00634927,\n",
       "        0.5088852 ,  0.23094011,  0.42320737, -0.68539583, -1.15199634,\n",
       "       -0.22291032,  0.76396163, -0.53907002, -1.00801591,  0.33395665,\n",
       "       -0.7257289 ])"
      ]
     },
     "execution_count": 39,
     "metadata": {},
     "output_type": "execute_result"
    }
   ],
   "source": [
    "prepared_data[0] # Taking a data for usage"
   ]
  },
  {
   "cell_type": "markdown",
   "id": "7ddfc94c",
   "metadata": {},
   "source": [
    "## Usage"
   ]
  },
  {
   "cell_type": "code",
   "execution_count": 40,
   "id": "5b6d9e16",
   "metadata": {},
   "outputs": [],
   "source": [
    "from joblib import dump, load\n",
    "import numpy as np\n",
    "model = load(\"Student.joblib\")"
   ]
  },
  {
   "cell_type": "code",
   "execution_count": 41,
   "id": "bed317bf",
   "metadata": {},
   "outputs": [
    {
     "data": {
      "text/plain": [
       "array([11.58])"
      ]
     },
     "execution_count": 41,
     "metadata": {},
     "output_type": "execute_result"
    }
   ],
   "source": [
    "features = np.array([[-0.5428763 , -0.71683018, -0.53548911, -0.62690199, -0.04859584,\n",
    "       -0.4465959 ,  2.42271856,  0.77721356,  1.10695624, -1.00634927,\n",
    "        0.5088852 ,  0.23094011,  0.42320737, -0.68539583, -1.15199634,\n",
    "       -0.22291032,  0.76396163, -0.53907002, -1.00801591,  0.33395665,\n",
    "       -0.7257289 ]])\n",
    "model.predict(features)"
   ]
  },
  {
   "cell_type": "code",
   "execution_count": null,
   "id": "60c80ec5",
   "metadata": {},
   "outputs": [],
   "source": []
  }
 ],
 "metadata": {
  "kernelspec": {
   "display_name": "Python 3",
   "language": "python",
   "name": "python3"
  },
  "language_info": {
   "codemirror_mode": {
    "name": "ipython",
    "version": 3
   },
   "file_extension": ".py",
   "mimetype": "text/x-python",
   "name": "python",
   "nbconvert_exporter": "python",
   "pygments_lexer": "ipython3",
   "version": "3.9.4"
  }
 },
 "nbformat": 4,
 "nbformat_minor": 5
}
